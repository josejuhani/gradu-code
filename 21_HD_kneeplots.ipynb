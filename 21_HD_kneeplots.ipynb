{
 "cells": [
  {
   "cell_type": "markdown",
   "metadata": {},
   "source": [
    "## Knee plots for up to 2000 clusters"
   ]
  },
  {
   "cell_type": "code",
   "execution_count": 1,
   "metadata": {},
   "outputs": [],
   "source": [
    "%pylab inline \n",
    "pylab.rcParams['figure.figsize'] = (15,12)\n",
    "import numpy as np\n",
    "import simplejson as json\n",
    "import os\n",
    "from gradutil import *\n",
    "ide = ideal(False)"
   ]
  },
  {
   "cell_type": "markdown",
   "metadata": {},
   "source": [
    "This again takes quite some time, because we have a lot of files with a lot of contents."
   ]
  },
  {
   "cell_type": "code",
   "execution_count": 2,
   "metadata": {},
   "outputs": [],
   "source": [
    "new_optims = dict()\n",
    "for nclust in range(50, 8301, 50):\n",
    "    try:\n",
    "        with open('optimizations/hope_{}.json'.format(nclust), 'r') as file:\n",
    "            optimizations = json.load(file)\n",
    "    except FileNotFoundError:\n",
    "        break\n",
    "    new_optims[nclust] = dict()\n",
    "    for seedn in optimizations.keys():\n",
    "        new_optims[nclust][eval(seedn)] = dict()\n",
    "        for name in optimizations[seedn].keys():\n",
    "            new_optims[nclust][eval(seedn)][name] = dict()\n",
    "            for key in optimizations[seedn][name].keys():\n",
    "                new_optims[nclust][eval(seedn)][name][key] = float(optimizations[seedn][name][key])"
   ]
  },
  {
   "cell_type": "code",
   "execution_count": 3,
   "metadata": {},
   "outputs": [],
   "source": [
    "new_optims[100][2]"
   ]
  },
  {
   "cell_type": "code",
   "execution_count": 4,
   "metadata": {},
   "outputs": [],
   "source": [
    "inds = []\n",
    "real_revenue = []\n",
    "real_carbon = []\n",
    "real_deadwood = []\n",
    "real_ha = []\n",
    "surr_revenue = []\n",
    "surr_carbon = []\n",
    "surr_deadwood = []\n",
    "surr_ha = []\n",
    "for nclust in sorted(new_optims.keys()):\n",
    "    r_rev = []\n",
    "    r_car = []\n",
    "    r_dea = []\n",
    "    r_ha = []\n",
    "    s_rev = []\n",
    "    s_car = []\n",
    "    s_dea = []\n",
    "    s_ha = []\n",
    "    for seedn in new_optims[nclust].keys():\n",
    "        r_rev.append(new_optims[nclust][seedn]['revenue']['real'])\n",
    "        r_car.append(new_optims[nclust][seedn]['carbon']['real'])\n",
    "        r_dea.append(new_optims[nclust][seedn]['deadwood']['real'])\n",
    "        r_ha.append(new_optims[nclust][seedn]['ha']['real'])\n",
    "        s_rev.append(new_optims[nclust][seedn]['revenue']['surrogate'])\n",
    "        s_car.append(new_optims[nclust][seedn]['carbon']['surrogate'])\n",
    "        s_dea.append(new_optims[nclust][seedn]['deadwood']['surrogate'])\n",
    "        s_ha.append(new_optims[nclust][seedn]['ha']['surrogate'])\n",
    "    real_revenue.append(r_rev)\n",
    "    real_carbon.append(r_car)\n",
    "    real_deadwood.append(r_dea)\n",
    "    real_ha.append(r_ha)\n",
    "    surr_revenue.append(s_rev)\n",
    "    surr_carbon.append(s_car)\n",
    "    surr_deadwood.append(s_dea)\n",
    "    surr_ha.append(s_ha)\n",
    "    inds.append(nclust)\n",
    "inds = np.array(inds)\n",
    "real_revenue = np.array(real_revenue)\n",
    "real_carbon = np.array(real_carbon)\n",
    "real_deadwood = np.array(real_deadwood)\n",
    "real_ha = np.array(real_ha)\n",
    "surr_revenue = np.array(surr_revenue)\n",
    "surr_carbon = np.array(surr_carbon)\n",
    "surr_deadwood = np.array(surr_deadwood)\n",
    "surr_ha = np.array(surr_ha)"
   ]
  },
  {
   "cell_type": "code",
   "execution_count": 5,
   "metadata": {
    "scrolled": false
   },
   "outputs": [],
   "source": [
    "pylab.rcParams['figure.figsize'] = (15,12)\n",
    "\n",
    "fig, ax = plt.subplots(2,2)\n",
    "fig.suptitle('Optimization results using values from previously formed clustering surrogate.\\nValues from 10 independent runs',\n",
    "            fontsize=20)\n",
    "\n",
    "data = np.array([[surr_revenue, surr_carbon], [surr_deadwood, surr_ha]])\n",
    "names = np.array([['Revenue', 'Carbon'],['Deadwood', 'Habitat']])\n",
    "optims = np.array([ideal(False)[:2], ideal(False)[2:]])\n",
    "ymaxs = np.array([[3.5e+8,6.1e+6],[3.1e+5, 2.8e+4]])\n",
    "for i in range(np.shape(ax)[0]):\n",
    "    for j in range(np.shape(ax)[1]):\n",
    "        ax[i,j].plot(inds, np.max(data[i,j], axis=1),color='g')\n",
    "        ax[i,j].plot(inds, np.mean(data[i,j], axis=1), color='y')\n",
    "        ax[i,j].plot(inds, np.min(data[i,j], axis=1), color='r')\n",
    "        #ax[i,j].plot(inds, data[i,j][:,3])\n",
    "        ax[i,j].plot((min(inds), max(inds)),(optims[i,j], optims[i,j]), color='b')\n",
    "        ax[i,j].set_title(names[i,j], fontsize=15)\n",
    "        ax[i,j].set_ylim(ymin=0, ymax=ymaxs[i,j])\n",
    "        ax[i,j].set_xlabel('Number of clusters', fontsize=12)\n",
    "        ax[i,j].set_ylabel('Optimization results', fontsize=12)\n",
    "        #for k in range(200, 1401, 200):\n",
    "            #ax[i,j].axvline(x=k, ymin=0, ymax=250)"
   ]
  },
  {
   "cell_type": "code",
   "execution_count": 6,
   "metadata": {},
   "outputs": [],
   "source": [
    "surr_all_stack = np.dstack((surr_revenue, surr_carbon, surr_deadwood, surr_ha))"
   ]
  },
  {
   "cell_type": "code",
   "execution_count": 7,
   "metadata": {},
   "outputs": [],
   "source": [
    "np.min(np.min(abs((surr_all_stack-ide)/ide), axis=1), axis=0)*100"
   ]
  },
  {
   "cell_type": "markdown",
   "metadata": {},
   "source": [
    "These are then the smallest relative differences we can attain for Timber revenue, Carbon storage, Deadwood volume and Habitat suitability: 0.148%, 0.017%, 0.007% and 0.030%. In practice this means there is no difference..."
   ]
  },
  {
   "cell_type": "code",
   "execution_count": 8,
   "metadata": {},
   "outputs": [],
   "source": [
    "pylab.rcParams['figure.figsize'] = (15,12)\n",
    "\n",
    "fig, ax = plt.subplots(2,2)\n",
    "fig.suptitle('Optimization results using original variable values\\nwhen clustering based surrogate mapped to original variables.\\nValues from 10 independent runs',\n",
    "            fontsize=20)\n",
    "\n",
    "data = np.array([[real_revenue, real_carbon], [real_deadwood, real_ha]])\n",
    "for i in range(np.shape(ax)[0]):\n",
    "    for j in range(np.shape(ax)[1]):\n",
    "        ax[i,j].plot(inds, np.max(data[i,j], axis=1), color='g')\n",
    "        ax[i,j].plot(inds, np.mean(data[i,j], axis=1), color='y')\n",
    "        ax[i,j].plot(inds, np.min(data[i,j], axis=1), color='r')\n",
    "        ax[i,j].plot((min(inds), max(inds)),(optims[i,j], optims[i,j]), color='b')\n",
    "        ax[i,j].set_title(names[i,j], fontsize=15)\n",
    "        ax[i,j].set_ylim(ymin=0, ymax=ymaxs[i,j])\n",
    "        ax[i,j].set_xlabel('Number of clusters', fontsize=12)\n",
    "        ax[i,j].set_ylabel('Optimization results', fontsize=12)\n",
    "        #for k in range(200, 1401, 200):\n",
    "         #   ax[i,j].axvline(x=k, ymin=0, ymax=250)"
   ]
  },
  {
   "cell_type": "code",
   "execution_count": 9,
   "metadata": {},
   "outputs": [],
   "source": [
    "real_all_stack = np.dstack((real_revenue, real_carbon, real_deadwood, real_ha))"
   ]
  },
  {
   "cell_type": "code",
   "execution_count": 10,
   "metadata": {},
   "outputs": [],
   "source": [
    "np.min(np.min(abs((real_all_stack-ide)/ide), axis=1), axis=0)*100"
   ]
  },
  {
   "cell_type": "markdown",
   "metadata": {},
   "source": [
    "## Finding the best compromise in proxy based results\n"
   ]
  },
  {
   "cell_type": "markdown",
   "metadata": {},
   "source": [
    "Calculate the best values for all the objectives, for every number of clusters"
   ]
  },
  {
   "cell_type": "code",
   "execution_count": 11,
   "metadata": {},
   "outputs": [],
   "source": [
    "ide_reshape = (np.ones((4,len(surr_revenue)))*ide.reshape(4,1))\n",
    "max_all = (np.array((np.max(surr_revenue, axis=1), np.max(surr_carbon, axis=1), np.max(surr_deadwood, axis=1), np.max(surr_ha, axis=1)))-ide_reshape)/ide_reshape"
   ]
  },
  {
   "cell_type": "markdown",
   "metadata": {},
   "source": [
    "Lets inspect then what are the relative differences for all the best possible values for all the objectives.\n",
    "Also the \"absolute\" sum of differences plotted (violet)"
   ]
  },
  {
   "cell_type": "code",
   "execution_count": 12,
   "metadata": {},
   "outputs": [],
   "source": [
    "pylab.rcParams['figure.figsize'] = (10,8)\n",
    "plt.suptitle('Relative differences in objectives', fontsize=15)\n",
    "plt.plot(inds, max_all.transpose())\n",
    "plt.plot(inds, sum([np.abs(num) for num in max_all.transpose()],axis=1), color='r')\n",
    "plt.plot(inds, np.zeros(len(inds)))\n",
    "plt.xlabel('Number of clusters', fontsize=12)\n",
    "plt.ylabel('Relative differences', fontsize=12)\n",
    "plt.axvline(x=1350, ymin=0, ymax=250)"
   ]
  },
  {
   "cell_type": "markdown",
   "metadata": {},
   "source": [
    "Now different clusterings for same number of clusters (different random initializations) are not considered.\n",
    "Now plot all the sums of relative differences for different initializations."
   ]
  },
  {
   "cell_type": "code",
   "execution_count": 13,
   "metadata": {},
   "outputs": [],
   "source": [
    "np.shape(surr_all_stack)"
   ]
  },
  {
   "cell_type": "code",
   "execution_count": 14,
   "metadata": {},
   "outputs": [],
   "source": [
    "sums_all = sum(abs((surr_all_stack[:20]-ide)/ide), axis=2)"
   ]
  },
  {
   "cell_type": "code",
   "execution_count": 15,
   "metadata": {},
   "outputs": [],
   "source": [
    "nc = np.argmin([sums_all[i,n] for i,n in enumerate(np.argmin(sums_all, axis=1))])"
   ]
  },
  {
   "cell_type": "code",
   "execution_count": 16,
   "metadata": {},
   "outputs": [],
   "source": [
    "sn = np.argmin(sums_all[nc])"
   ]
  },
  {
   "cell_type": "code",
   "execution_count": 17,
   "metadata": {},
   "outputs": [],
   "source": [
    "inds[nc], range(2,12)[sn]"
   ]
  },
  {
   "cell_type": "code",
   "execution_count": 18,
   "metadata": {},
   "outputs": [],
   "source": [
    "sums_all[nc,sn]"
   ]
  },
  {
   "cell_type": "code",
   "execution_count": 19,
   "metadata": {
    "scrolled": false
   },
   "outputs": [],
   "source": [
    "pylab.rcParams['figure.figsize'] = (10,8)\n",
    "plt.suptitle('Sums of relative optimization errors of the four objectives,\\nfor all the clusterings.\\nUsing the proxy variable based results.', fontsize=15)\n",
    "plt.scatter(inds[nc], sum(abs((surr_all_stack[nc,sn]-ide)/ide)), color='b', s=120)\n",
    "plt.scatter(np.ones((len(surr_revenue),10))*inds.reshape(len(surr_revenue),1), sum(abs((surr_all_stack-ide)/ide), axis=2), color='r')\n",
    "plt.xlabel('Number of clusters', fontsize=12)\n",
    "plt.ylabel('Sums of relative differences', fontsize=12)\n",
    "# plt.axvline(x=1500, ymin=0, ymax=250)"
   ]
  },
  {
   "cell_type": "markdown",
   "metadata": {},
   "source": [
    "It is now {nc} clusters. So we want to inspect that more thoroughly."
   ]
  },
  {
   "cell_type": "code",
   "execution_count": 20,
   "metadata": {
    "scrolled": false
   },
   "outputs": [],
   "source": [
    "pylab.rcParams['figure.figsize'] = (10,8)\n",
    "plt.suptitle('Relative differences in objectives, {} clusters'.format(inds[nc]), fontsize=15)\n",
    "plt.plot(range(2,12), (surr_all_stack[nc,]-ide)/ide)\n",
    "plt.plot(range(2,12), sum([abs(n) for n in (surr_all_stack[11]-ide)/ide], axis=1))\n",
    "plt.xlabel('Clustering initialization seed', fontsize=12)\n",
    "plt.ylabel('Relative differences', fontsize=12)"
   ]
  },
  {
   "cell_type": "markdown",
   "metadata": {},
   "source": [
    "The best possible results are then attained with {nc} clusters and initialization seed as {sn}"
   ]
  },
  {
   "cell_type": "code",
   "execution_count": 21,
   "metadata": {},
   "outputs": [],
   "source": [
    "bestind = (nc,sn)"
   ]
  },
  {
   "cell_type": "code",
   "execution_count": 22,
   "metadata": {},
   "outputs": [],
   "source": [
    "surr_revenue[bestind], surr_carbon[bestind], surr_deadwood[bestind], surr_ha[bestind]"
   ]
  },
  {
   "cell_type": "code",
   "execution_count": 23,
   "metadata": {},
   "outputs": [],
   "source": [
    "(np.array((surr_revenue[bestind], surr_carbon[bestind], surr_deadwood[bestind], surr_ha[bestind])) - ide)/ide*100"
   ]
  },
  {
   "cell_type": "markdown",
   "metadata": {},
   "source": [
    "Now when inspecting the relative differences in this best clustering the relative differences for Timber revenue, Carbon storage, Deadwood volume and Habitat suitability are 2.5%, -1.4%, -0.8% and -2.9%"
   ]
  },
  {
   "cell_type": "code",
   "execution_count": 24,
   "metadata": {
    "scrolled": true
   },
   "outputs": [],
   "source": [
    "real_revenue[bestind], real_carbon[bestind], real_deadwood[bestind], real_ha[bestind]"
   ]
  },
  {
   "cell_type": "code",
   "execution_count": 25,
   "metadata": {},
   "outputs": [],
   "source": [
    "(np.array((real_revenue[bestind], real_carbon[bestind], real_deadwood[bestind], real_ha[bestind])) - ide)/ide*100"
   ]
  },
  {
   "cell_type": "markdown",
   "metadata": {},
   "source": [
    "For the original variables the results are then -1.5%, -0.9%, -2.3% and -2.3%. These are bit smaller for all excpet\n",
    "for the deadwood values, which are worse."
   ]
  }
 ],
 "metadata": {
  "git": {
   "suppress_outputs": true
  },
  "kernelspec": {
   "display_name": "Python 3",
   "language": "python",
   "name": "python3"
  },
  "language_info": {
   "codemirror_mode": {
    "name": "ipython",
    "version": 3
   },
   "file_extension": ".py",
   "mimetype": "text/x-python",
   "name": "python",
   "nbconvert_exporter": "python",
   "pygments_lexer": "ipython3",
   "version": "3.5.2"
  }
 },
 "nbformat": 4,
 "nbformat_minor": 2
}