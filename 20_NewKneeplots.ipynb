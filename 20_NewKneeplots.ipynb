{
 "cells": [
  {
   "cell_type": "markdown",
   "metadata": {},
   "source": [
    "### New knee plots"
   ]
  },
  {
   "cell_type": "markdown",
   "metadata": {},
   "source": [
    "Lets draw some new knee plots using already formed clusterings that are saved to files"
   ]
  },
  {
   "cell_type": "code",
   "execution_count": 1,
   "metadata": {},
   "outputs": [],
   "source": [
    "%pylab inline \n",
    "pylab.rcParams['figure.figsize'] = (15,12)\n",
    "import numpy as np\n",
    "import simplejson as json\n",
    "import os\n",
    "from gradutil import *"
   ]
  },
  {
   "cell_type": "code",
   "execution_count": 2,
   "metadata": {},
   "outputs": [],
   "source": [
    "ide = ideal(False)"
   ]
  },
  {
   "cell_type": "code",
   "execution_count": 3,
   "metadata": {},
   "outputs": [],
   "source": [
    "new_clustering = dict()\n",
    "for nclust in range(100, 8501, 200):\n",
    "    try:\n",
    "        with open('clusterings/new_{}.json'.format(nclust), 'r') as rfile:\n",
    "            clustering = json.load(rfile)\n",
    "        n_clustering = dict()\n",
    "        for seedn in clustering.keys():\n",
    "            n_clustering[eval(seedn)] = dict()\n",
    "            for key in clustering[seedn].keys():\n",
    "                n_clustering[eval(seedn)][key] = np.array(clustering[seedn][key])\n",
    "        new_clustering[nclust] = n_clustering\n",
    "    except FileNotFoundError:\n",
    "        break"
   ]
  },
  {
   "cell_type": "markdown",
   "metadata": {},
   "source": [
    "This takes some time. Total 42 files approx. 20 Mb each."
   ]
  },
  {
   "cell_type": "markdown",
   "metadata": {},
   "source": [
    "We want to extract the intracluster distance values from the dictionary."
   ]
  },
  {
   "cell_type": "code",
   "execution_count": 4,
   "metadata": {},
   "outputs": [],
   "source": [
    "nclusts = []\n",
    "dists = []\n",
    "for nclust in sorted(new_clustering.keys()):\n",
    "    nclusts.append(nclust)\n",
    "    dists_clust = []\n",
    "    for seedn in new_clustering[nclust].keys():\n",
    "        dists_clust.append(np.nansum(new_clustering[nclust][seedn]['dist']))\n",
    "    dists.append(dists_clust)"
   ]
  },
  {
   "cell_type": "markdown",
   "metadata": {},
   "source": [
    "Then let's draw the actual picture. In this it has to be remembered that these distances are calculated using the abstarct mathematical centers for the clusters! So not the stand closest to the center, as is really used. (With given clustering data it is not possible to calculate those distances...)"
   ]
  },
  {
   "cell_type": "code",
   "execution_count": 9,
   "metadata": {},
   "outputs": [],
   "source": [
    "pylab.rcParams['figure.figsize'] = (10,8)\n",
    "plt.suptitle('Number of clusters and average sum of intra cluster distances.\\nValues from 10 independent runs',\n",
    "            fontsize=15)\n",
    "plt.plot(nclusts, np.mean(dists, axis=1))\n",
    "plt.xlabel('Number of clusters', fontsize=12)\n",
    "plt.ylabel('Sum of intra cluster distances', fontsize=12)\n",
    "# plt.axvline(x=1500, ymin=0, ymax=250)"
   ]
  },
  {
   "cell_type": "markdown",
   "metadata": {},
   "source": [
    "## Plots for optimization results using clustering"
   ]
  },
  {
   "cell_type": "code",
   "execution_count": 47,
   "metadata": {},
   "outputs": [],
   "source": [
    "new_optims = dict()\n",
    "for nclust in range(100, 8301, 200):\n",
    "    try:\n",
    "        with open('optimizations/hope_{}.json'.format(nclust), 'r') as rfile:\n",
    "            optims = json.load(rfile)\n",
    "        n_optims = dict()\n",
    "        for seedn in optims.keys():\n",
    "            n_optims[eval(seedn)] = dict()\n",
    "            for name in optims[seedn].keys():\n",
    "                n_optims[eval(seedn)][name] = dict()\n",
    "                for key in optims[seedn][name].keys():\n",
    "                    n_optims[eval(seedn)][name][key] = float(optims[seedn][name][key])\n",
    "        new_optims[nclust] = n_optims\n",
    "    except FileNotFoundError:\n",
    "        break"
   ]
  },
  {
   "cell_type": "markdown",
   "metadata": {},
   "source": [
    "Extract the single objective optimal values from the dictionary"
   ]
  },
  {
   "cell_type": "code",
   "execution_count": 48,
   "metadata": {},
   "outputs": [],
   "source": [
    "indices = []\n",
    "r_revenue = []\n",
    "r_carbon = []\n",
    "r_deadwood = []\n",
    "r_ha = []\n",
    "s_revenue = []\n",
    "s_carbon = []\n",
    "s_deadwood = []\n",
    "s_ha = []\n",
    "for nclust in sorted(new_optims.keys()):\n",
    "    o_rev = []\n",
    "    o_car = []\n",
    "    o_dea = []\n",
    "    o_ha = []\n",
    "    q_rev = []\n",
    "    q_car = []\n",
    "    q_dea = []\n",
    "    q_ha = []\n",
    "    for seedn in new_optims[nclust].keys():\n",
    "        o_rev.append(new_optims[nclust][seedn]['revenue']['real'])\n",
    "        o_car.append(new_optims[nclust][seedn]['carbon']['real'])\n",
    "        o_dea.append(new_optims[nclust][seedn]['deadwood']['real'])\n",
    "        o_ha.append(new_optims[nclust][seedn]['ha']['real'])\n",
    "        q_rev.append(new_optims[nclust][seedn]['revenue']['surrogate'])\n",
    "        q_car.append(new_optims[nclust][seedn]['carbon']['surrogate'])\n",
    "        q_dea.append(new_optims[nclust][seedn]['deadwood']['surrogate'])\n",
    "        q_ha.append(new_optims[nclust][seedn]['ha']['surrogate'])\n",
    "    r_revenue.append(o_rev)\n",
    "    r_carbon.append(o_car)\n",
    "    r_deadwood.append(o_dea)\n",
    "    r_ha.append(o_ha)\n",
    "    s_revenue.append(q_rev)\n",
    "    s_carbon.append(q_car)\n",
    "    s_deadwood.append(q_dea)\n",
    "    s_ha.append(q_ha)\n",
    "    indices.append(nclust)\n",
    "r_revenue = np.array(r_revenue)\n",
    "r_carbon = np.array(r_carbon)\n",
    "r_deadwood = np.array(r_deadwood)\n",
    "r_ha = np.array(r_ha)\n",
    "s_revenue = np.array(s_revenue)\n",
    "s_carbon = np.array(s_carbon)\n",
    "s_deadwood = np.array(s_deadwood)\n",
    "s_ha = np.array(s_ha)\n",
    "indices = np.array(indices)"
   ]
  },
  {
   "cell_type": "code",
   "execution_count": 49,
   "metadata": {},
   "outputs": [],
   "source": [
    "names = np.array([['Revenue', 'Carbon'],['Deadwood', 'Habitat']])\n",
    "optims = np.array([ideal(False)[:2], ideal(False)[2:]])\n",
    "ymaxs = np.array([[3.5e+8,6.1e+6],[3.1e+5, 2.8e+4]])"
   ]
  },
  {
   "cell_type": "code",
   "execution_count": 50,
   "metadata": {},
   "outputs": [],
   "source": [
    "pylab.rcParams['figure.figsize'] = (15,12)\n",
    "\n",
    "fig, ax = plt.subplots(2,2)\n",
    "fig.suptitle('Optimization results using original variable values\\nwhen clustering based surrogate mapped to original variables.\\nValues from 10 independent runs',\n",
    "             fontsize=20)\n",
    "data = np.array([[r_revenue, r_carbon], [r_deadwood, r_ha]])\n",
    "for i in range(np.shape(ax)[0]):\n",
    "    for j in range(np.shape(ax)[1]):\n",
    "        ax[i,j].plot(indices, np.max(data[i,j], axis=1), color='g')\n",
    "        ax[i,j].plot(indices, np.mean(data[i,j], axis=1), color='y')\n",
    "        ax[i,j].plot(indices, np.min(data[i,j], axis=1), color='r')\n",
    "        # ax[i,j].plot(indices[:maximum], data[i,j][:maximum])\n",
    "        ax[i,j].plot((min(indices[:maximum]), max(indices)),(optims[i,j], optims[i,j]), color='b')\n",
    "        ax[i,j].set_title(names[i,j], fontsize=15)\n",
    "        ax[i,j].set_ylim(ymin=0, ymax=ymaxs[i,j])\n",
    "        ax[i,j].set_xlabel('Number of clusters', fontsize=12)\n",
    "        ax[i,j].set_ylabel('Optimization results', fontsize=12)\n",
    "        # ax[i,j].axvline(x=1300, ymin=0, ymax=250)"
   ]
  },
  {
   "cell_type": "markdown",
   "metadata": {},
   "source": [
    " We want to inspect at which point the minimum values drop rapidly. The inspections are based on visual clues:"
   ]
  },
  {
   "cell_type": "code",
   "execution_count": 51,
   "metadata": {},
   "outputs": [],
   "source": [
    "indices[np.min(r_revenue, axis=1) > 2.46e+8]"
   ]
  },
  {
   "cell_type": "code",
   "execution_count": 52,
   "metadata": {},
   "outputs": [],
   "source": [
    "indices[np.min(r_carbon, axis=1) > 4.41e+6]"
   ]
  },
  {
   "cell_type": "code",
   "execution_count": 53,
   "metadata": {},
   "outputs": [],
   "source": [
    "indices[np.min(r_deadwood, axis=1) > 2.13e+5]"
   ]
  },
  {
   "cell_type": "code",
   "execution_count": 54,
   "metadata": {},
   "outputs": [],
   "source": [
    "indices[np.min(r_ha, axis=1) > 1.98e+4]"
   ]
  },
  {
   "cell_type": "markdown",
   "metadata": {},
   "source": [
    "So it looks like the results stay quite stabil until 1300 clusters.\n",
    "We also want to know up to which point the maximum values keep still increasing:"
   ]
  },
  {
   "cell_type": "code",
   "execution_count": 55,
   "metadata": {},
   "outputs": [],
   "source": [
    "indices[np.max(r_revenue, axis=1) > 2.46e+8]"
   ]
  },
  {
   "cell_type": "code",
   "execution_count": 56,
   "metadata": {},
   "outputs": [],
   "source": [
    "indices[np.max(r_carbon, axis=1) > 4.41e+6]"
   ]
  },
  {
   "cell_type": "code",
   "execution_count": 57,
   "metadata": {},
   "outputs": [],
   "source": [
    "indices[np.max(r_deadwood, axis=1) > 2.13e+5]"
   ]
  },
  {
   "cell_type": "code",
   "execution_count": 58,
   "metadata": {},
   "outputs": [],
   "source": [
    "indices[np.max(r_ha, axis=1) > 1.98e+4]"
   ]
  },
  {
   "cell_type": "markdown",
   "metadata": {},
   "source": [
    "So it looks like that 3500 is the maximum number of clusters that produces best solutions for all the objectives.\n",
    "We only want to know if these clusterings are the same for all the objectives. We know that 3500 clusters is index 18 in indices and so also in all the optims arrays, so lets compare them."
   ]
  },
  {
   "cell_type": "code",
   "execution_count": 59,
   "metadata": {},
   "outputs": [],
   "source": [
    "np.argmax(r_revenue[18]),np.argmax(r_carbon[18]),np.argmax(r_deadwood[18]),np.argmax(r_ha[18])"
   ]
  },
  {
   "cell_type": "markdown",
   "metadata": {},
   "source": [
    "For all the objectives the clustering no.2 seems the best! Thats surprising actually. Anyway it is good news. We could then use it in the multiobjective optimizations also."
   ]
  },
  {
   "cell_type": "markdown",
   "metadata": {},
   "source": [
    "Whats the difference from attained values to the real values?"
   ]
  },
  {
   "cell_type": "code",
   "execution_count": 61,
   "metadata": {},
   "outputs": [],
   "source": [
    "((np.array((np.max(r_revenue), np.max(r_carbon), np.max(r_deadwood), np.max(r_ha))) - ide)/ide)*100"
   ]
  },
  {
   "cell_type": "markdown",
   "metadata": {},
   "source": [
    "The objectives are then 1.0%, 0.3%, 1.0% and 0.8% less than the real values"
   ]
  },
  {
   "cell_type": "markdown",
   "metadata": {},
   "source": [
    "When considering \"the best for all\" options the values are then:"
   ]
  },
  {
   "cell_type": "code",
   "execution_count": 62,
   "metadata": {},
   "outputs": [],
   "source": [
    "(np.array((np.max(r_revenue[18]), np.max(r_carbon[18]), np.max(r_deadwood[18]), np.max(r_ha[18]))) - ide)/ide"
   ]
  },
  {
   "cell_type": "markdown",
   "metadata": {},
   "source": [
    "This makes then 1.5%, 1.6%, 3.9% and 3.4%. The differences are anyway quite minor."
   ]
  },
  {
   "cell_type": "code",
   "execution_count": 64,
   "metadata": {},
   "outputs": [],
   "source": [
    "pylab.rcParams['figure.figsize'] = (15,12)\n",
    "\n",
    "fig, ax = plt.subplots(2,2)\n",
    "fig.suptitle('Optimization results using values from previously formed clustering surrogate.\\nValues from 10 independent runs',\n",
    "            fontsize=20)\n",
    "\n",
    "data = np.array([[s_revenue, s_carbon], [s_deadwood, s_ha]])\n",
    "for i in range(np.shape(ax)[0]):\n",
    "    for j in range(np.shape(ax)[1]):\n",
    "        ax[i,j].plot(indices, np.max(data[i,j], axis=1), color='g')\n",
    "        ax[i,j].plot(indices, np.mean(data[i,j], axis=1), color='y')\n",
    "        ax[i,j].plot(indices, np.min(data[i,j], axis=1), color='r')\n",
    "        # ax[i,j].plot(indices[:maximum], data[i,j][:maximum])\n",
    "        ax[i,j].plot((min(indices), max(indices)),(optims[i,j], optims[i,j]), color='b')\n",
    "        ax[i,j].set_title(names[i,j], fontsize=15)\n",
    "        ax[i,j].set_ylim(ymin=0, ymax=ymaxs[i,j])\n",
    "        ax[i,j].set_xlabel('Number of clusters', fontsize=12)\n",
    "        ax[i,j].set_ylabel('Optimization results', fontsize=12)\n",
    "        #ax[i,j].axvline(x=1500, ymin=0, ymax=250)\n",
    "        ax[i,j].axvline(x=1700, ymin=0, ymax=250)\n",
    "        #ax[i,j].axvline(x=2000, ymin=0, ymax=250)"
   ]
  },
  {
   "cell_type": "markdown",
   "metadata": {},
   "source": [
    "It looks like the results stay quite stabel all the time. We could still inspect when the results start clearly to decrease:"
   ]
  },
  {
   "cell_type": "code",
   "execution_count": 65,
   "metadata": {},
   "outputs": [],
   "source": [
    "indices[np.max(s_revenue, axis=1) > 2.85e+8]"
   ]
  },
  {
   "cell_type": "code",
   "execution_count": 66,
   "metadata": {},
   "outputs": [],
   "source": [
    "indices[np.max(s_carbon, axis=1) > 4.65e+6]"
   ]
  },
  {
   "cell_type": "code",
   "execution_count": 67,
   "metadata": {},
   "outputs": [],
   "source": [
    "indices[np.max(s_deadwood, axis=1) > 2.3e+5]"
   ]
  },
  {
   "cell_type": "code",
   "execution_count": 68,
   "metadata": {},
   "outputs": [],
   "source": [
    "indices[np.max(s_ha, axis=1) > 2.0e+4]"
   ]
  },
  {
   "cell_type": "markdown",
   "metadata": {},
   "source": [
    "It seems we are getting worse and worse results all the time when the number of clusters decrease. We could still try to inspect how the best possible results differ from the real values:"
   ]
  },
  {
   "cell_type": "code",
   "execution_count": 69,
   "metadata": {},
   "outputs": [],
   "source": [
    "(np.array((np.max(s_revenue), np.max(s_carbon), np.max(s_deadwood), np.max(s_ha))) - ide)/ide"
   ]
  },
  {
   "cell_type": "markdown",
   "metadata": {},
   "source": [
    "All the objectives are 32.3%, 8.7%, 18.7% and 24.3% better than the real results..."
   ]
  },
  {
   "cell_type": "code",
   "execution_count": 70,
   "metadata": {},
   "outputs": [],
   "source": [
    "np.argmax(np.max(s_revenue, axis=1)), np.argmax(np.max(s_carbon, axis=1)), np.argmax(np.max(s_deadwood, axis=1)), np.argmax(np.max(s_ha, axis=1))"
   ]
  },
  {
   "cell_type": "code",
   "execution_count": 71,
   "metadata": {},
   "outputs": [],
   "source": [
    "indices[0], indices[1], indices[4]"
   ]
  },
  {
   "cell_type": "markdown",
   "metadata": {},
   "source": [
    "## Comparing different value assigning methods"
   ]
  },
  {
   "cell_type": "code",
   "execution_count": 72,
   "metadata": {},
   "outputs": [],
   "source": [
    "pylab.rcParams['figure.figsize'] = (15,12)\n",
    "\n",
    "fig, ax = plt.subplots(2,2)\n",
    "fig.suptitle('Comparing best values attainable whether using values of\\nproxy variables or original variables.\\nValues from 10 independent runs',\n",
    "            fontsize=20)\n",
    "\n",
    "data_surr = np.array([[s_revenue, s_carbon], [s_deadwood, s_ha]])\n",
    "data_real = np.array([[r_revenue, r_carbon], [r_deadwood, r_ha]])\n",
    "for i in range(np.shape(ax)[0]):\n",
    "    for j in range(np.shape(ax)[1]):\n",
    "        ax[i,j].plot(indices, np.max(data_real[i,j], axis=1), color='b')\n",
    "        ax[i,j].plot(indices, np.max(data_surr[i,j], axis=1), color='r')\n",
    "        ax[i,j].plot((min(indices), max(indices)),(optims[i,j], optims[i,j]), color='g')\n",
    "        ax[i,j].set_title(names[i,j], fontsize=15)\n",
    "        ax[i,j].set_ylim(ymin=0, ymax=ymaxs[i,j])\n",
    "        ax[i,j].set_xlabel('Number of clusters', fontsize=12)\n",
    "        ax[i,j].set_ylabel('Optimization results', fontsize=12)\n",
    "        ax[i,j].axvline(x=1100, ymin=0, ymax=250)\n",
    "        ax[i,j].axvline(x=1700, ymin=0, ymax=250)\n",
    "        ax[i,j].axvline(x=2400, ymin=0, ymax=250)\n",
    "        ax[i,j].axvline(x=5300, ymin=0, ymax=250)"
   ]
  }
 ],
 "metadata": {
  "git": {
   "suppress_outputs": true
  },
  "kernelspec": {
   "display_name": "Python 3",
   "language": "python",
   "name": "python3"
  },
  "language_info": {
   "codemirror_mode": {
    "name": "ipython",
    "version": 3
   },
   "file_extension": ".py",
   "mimetype": "text/x-python",
   "name": "python",
   "nbconvert_exporter": "python",
   "pygments_lexer": "ipython3",
   "version": "3.5.2"
  }
 },
 "nbformat": 4,
 "nbformat_minor": 2
}