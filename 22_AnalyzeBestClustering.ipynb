{
 "cells": [
  {
   "cell_type": "markdown",
   "metadata": {},
   "source": [
    "# Analysing the Best Clustering (600 clusters, seedn 6)"
   ]
  },
  {
   "cell_type": "code",
   "execution_count": 1,
   "metadata": {},
   "outputs": [],
   "source": [
    "%matplotlib inline\n",
    "%pylab inline \n",
    "import seaborn\n",
    "import pandas as pd\n",
    "import numpy as np\n",
    "import matplotlib.pyplot as plt\n",
    "import simplejson as json\n",
    "import os\n",
    "from ASF import ASF\n",
    "from gradutil import *\n",
    "from pyomo.opt import SolverFactory\n",
    "from scipy.spatial.distance import euclidean\n",
    "from interactiveBoreal import ReferenceFrame, Solver"
   ]
  },
  {
   "cell_type": "code",
   "execution_count": 2,
   "metadata": {},
   "outputs": [],
   "source": [
    "nclust = 600\n",
    "seedn = range(2,12)[4] # == 6"
   ]
  },
  {
   "cell_type": "code",
   "execution_count": 3,
   "metadata": {},
   "outputs": [],
   "source": [
    "xses = init_norms()\n",
    "x = xses['x']\n",
    "x_norm = xses['x_norm']\n",
    "x_stack = xses['x_stack']\n",
    "x_norm_stack = xses['x_norm_stack']"
   ]
  },
  {
   "cell_type": "code",
   "execution_count": 4,
   "metadata": {},
   "outputs": [],
   "source": [
    "ide = ideal(False)\n",
    "nad = nadir(False)\n",
    "opt = SolverFactory('cplex')\n",
    "names = np.array(['Revenue', 'Carbon', 'Deadwood', 'Habitat'])\n",
    "reg_names = np.array(['BAU','SA', 'EXT10','EXT30','GTR30','NTSR','NTL'])"
   ]
  },
  {
   "cell_type": "code",
   "execution_count": 5,
   "metadata": {},
   "outputs": [],
   "source": [
    "with open('clusterings/new_{}.json'.format(nclust), 'r') as file:\n",
    "    clustering = json.load(file)"
   ]
  },
  {
   "cell_type": "code",
   "execution_count": 6,
   "metadata": {},
   "outputs": [],
   "source": [
    "c = np.array(clustering[str(seedn)]['c'])\n",
    "xtoc = np.array(clustering[str(seedn)]['xtoc'])\n",
    "dist = np.array(clustering[str(seedn)]['dist'])"
   ]
  },
  {
   "cell_type": "code",
   "execution_count": 7,
   "metadata": {},
   "outputs": [],
   "source": [
    "weights = np.array([sum(xtoc == i) for i in range(nclust) if sum(xtoc == i) > 0])\n",
    "indices = [min(np.array(range(len(xtoc)))[xtoc == i],\n",
    "               key=lambda index: euclidean(x_norm[index], \n",
    "                                           np.mean(x_norm[xtoc == i],\n",
    "                                                   axis=0)))\n",
    "           for i in range(nclust) if sum(xtoc == i) > 0]"
   ]
  },
  {
   "cell_type": "code",
   "execution_count": 8,
   "metadata": {},
   "outputs": [],
   "source": [
    "c_close = x_norm_stack[indices]\n",
    "x_close = x_stack[indices]"
   ]
  },
  {
   "cell_type": "code",
   "execution_count": 9,
   "metadata": {},
   "outputs": [],
   "source": [
    "data = c_close\n",
    "nobj = np.shape(data)[-1]\n",
    "nvar = len(x_norm)\n",
    "w = weights/nvar\n",
    "solver = SolverFactory('cplex')\n",
    "problems = []\n",
    "ress = []\n",
    "\n",
    "for i in range(nobj):\n",
    "    problems.append(BorealWeightedProblem(data[:, :, i], w, nvar))\n",
    "    \n",
    "for p in problems:\n",
    "    ress.append(solver.solve(p.model))\n",
    "    \n",
    "payoff = [[cluster_to_value(x_close[:,:,i], res_to_list(p.model), weights) for i in range(nobj)] for p in problems]\n",
    "ide_surr = np.max(payoff, axis=0)\n",
    "nad_surr = np.min(payoff, axis=0)\n",
    "\n",
    "payoff_model = [[model_to_real_values(x_stack[:, :, i], p.model, xtoc) for i in range(nobj)] for p in problems]\n",
    "ide_orig = np.max(payoff_model, axis=0)\n",
    "nad_orig = np.min(payoff_model, axis=0)"
   ]
  },
  {
   "cell_type": "code",
   "execution_count": 10,
   "metadata": {
    "scrolled": true
   },
   "outputs": [],
   "source": [
    "for p in payoff:\n",
    "    for f in p:\n",
    "        print('{:11.1f}'.format(f), end=' ')\n",
    "    print('')"
   ]
  },
  {
   "cell_type": "code",
   "execution_count": 11,
   "metadata": {},
   "outputs": [],
   "source": [
    "ide_surr, ide_orig, ide"
   ]
  },
  {
   "cell_type": "code",
   "execution_count": 12,
   "metadata": {},
   "outputs": [],
   "source": [
    "(ide_surr-ide)/ide*100"
   ]
  },
  {
   "cell_type": "code",
   "execution_count": 13,
   "metadata": {},
   "outputs": [],
   "source": [
    "nad_surr, nad_orig, nad"
   ]
  },
  {
   "cell_type": "code",
   "execution_count": 14,
   "metadata": {},
   "outputs": [],
   "source": [
    "(nad_surr-nad)/nad*100\n"
   ]
  },
  {
   "cell_type": "code",
   "execution_count": 15,
   "metadata": {},
   "outputs": [],
   "source": [
    "(nad_surr-nad)/ide*100\n"
   ]
  },
  {
   "cell_type": "code",
   "execution_count": 16,
   "metadata": {},
   "outputs": [],
   "source": [
    "listss = [res_to_list(pro.model) for pro in problems]\n",
    "revenue,_,_,_ = init_boreal()\n",
    "orig_stands = revenue.values\n",
    "all_regs = []\n",
    "for l in listss:\n",
    "    nos = dict()\n",
    "    for ind,n in enumerate(l):\n",
    "        these_stands_to_bau = orig_stands[xtoc==ind,int(n)]\n",
    "        to_bau_no = np.sum(np.isnan(these_stands_to_bau))\n",
    "        nos[0] = nos.get(0, 0) + to_bau_no\n",
    "        nos[int(n)] = nos.get(n, 0) + weights[ind] - to_bau_no\n",
    "    all_regs.append(nos)\n",
    "\n",
    "for i,di in enumerate(all_regs):\n",
    "    print('\\n{}'.format(names[i]))\n",
    "    summ = 0\n",
    "    for key in di.keys():\n",
    "        summ += di[key]\n",
    "        print('{:5} {:6}'.format(reg_names[key], di[key]))\n",
    "    print('Total: {}'.format(summ))\n",
    "        "
   ]
  },
  {
   "cell_type": "code",
   "execution_count": 17,
   "metadata": {},
   "outputs": [],
   "source": [
    "with open('optimizations/new_{}.json'.format(nclust), 'r') as file:\n",
    "    optimization = json.load(file)"
   ]
  },
  {
   "cell_type": "code",
   "execution_count": 18,
   "metadata": {},
   "outputs": [],
   "source": [
    "names = np.array(('revenue','carbon','deadwood','ha'))"
   ]
  },
  {
   "cell_type": "code",
   "execution_count": 19,
   "metadata": {},
   "outputs": [],
   "source": [
    "def get_surr(name):\n",
    "    return float(optimization[str(seedn)][name]['surrogate'])\n",
    "optims_surr = np.array([get_surr(na) for na in names])"
   ]
  },
  {
   "cell_type": "code",
   "execution_count": 20,
   "metadata": {},
   "outputs": [],
   "source": [
    "def get_orig(name):\n",
    "    return float(optimization[str(seedn)][name]['real'])\n",
    "optims_orig = np.array([get_orig(na) for na in names])"
   ]
  },
  {
   "cell_type": "code",
   "execution_count": 21,
   "metadata": {},
   "outputs": [],
   "source": [
    "def ide_nad_normalize(point):\n",
    "    return (point-nad)/(ide-nad)"
   ]
  },
  {
   "cell_type": "code",
   "execution_count": 22,
   "metadata": {
    "scrolled": true
   },
   "outputs": [],
   "source": [
    "pylab.rcParams['figure.figsize'] = (15,12)\n",
    "from matplotlib import ticker\n",
    "\n",
    "x = [1,2,3,4] # spines\n",
    "y1 = ide_nad_normalize(ide_surr)\n",
    "#y2 = ide_nad_normalize(ide_orig)\n",
    "y3 = ide_nad_normalize(ide)\n",
    "y4 = ide_nad_normalize(nad)\n",
    "\n",
    "z1 = ide_nad_normalize(nad_surr)\n",
    "#z2 = ide_nad_normalize(nad_orig)\n",
    "\n",
    "fig, (ax, ax2, ax3) = plt.subplots(1, 3, sharey=False)\n",
    "\n",
    "fig.suptitle('Comparing ideals and nadirs of the surrogate to the real ones.',\n",
    "            fontsize=20)\n",
    "color_surr = 'xkcd:bright red'\n",
    "color_orig = 'xkcd:royal blue'\n",
    "color_real = 'xkcd:apple green'\n",
    "\n",
    "# plot the same on all the subplots\n",
    "ax.plot( x, y1, color_surr, x, z1, color_surr , x, y3, color_real, x, y4, color_real)\n",
    "ax2.plot(x, y1, color_surr, x, z1, color_surr , x, y3, color_real, x, y4, color_real)\n",
    "ax3.plot(x, y1, color_surr, x, z1, color_surr , x, y3, color_real, x, y4, color_real)\n",
    "\n",
    "'''\n",
    "ax.plot( x, y2, color_orig, x, z2, color_orig)\n",
    "ax2.plot(x, y2, color_orig, x, z2, color_orig)\n",
    "ax3.plot(x, y2, color_orig, x, z2, color_orig)\n",
    "'''\n",
    "\n",
    "# now zoom in each of the subplots \n",
    "ax.set_xlim([x[0], x[1]])\n",
    "ax2.set_xlim([x[1], x[2]])\n",
    "ax3.set_xlim([x[2], x[3]])\n",
    "ymin = -0.1\n",
    "ymax = 1.25\n",
    "ax.set_ylim( ymin, ymax)\n",
    "ax2.set_ylim(ymin, ymax)\n",
    "ax3.set_ylim(ymin, ymax)\n",
    "\n",
    "# set the x axis ticks \n",
    "for axx, xx in zip([ax, ax2, ax3], x[:-1]):\n",
    "    axx.xaxis.set_major_locator(ticker.FixedLocator([xx]))\n",
    "    axx.xaxis.set_ticklabels([names[xx-1],names[xx]])\n",
    "    axx.xaxis.set_tick_params(labelsize=15)\n",
    "ax3.xaxis.set_major_locator(ticker.FixedLocator([x[-2], x[-1]]))  # the last one\n",
    "# add the labels to the rightmost spine\n",
    "for tick in ax3.yaxis.get_major_ticks():\n",
    "  tick.label2On=True\n",
    "\n",
    "# stack the subplots together\n",
    "plt.subplots_adjust(wspace=0)\n",
    "plt.show()"
   ]
  },
  {
   "cell_type": "code",
   "execution_count": 23,
   "metadata": {},
   "outputs": [],
   "source": [
    "kehys = ReferenceFrame()\n",
    "#kehys.cluster(nclust=nclust, seedn=seedn)"
   ]
  },
  {
   "cell_type": "code",
   "execution_count": 26,
   "metadata": {},
   "outputs": [],
   "source": [
    "import simplejson as json\n",
    "with open('clusterings/new_{}.json'.format(nclust), 'r') as file:\n",
    "    clustering = json.load(file)\n",
    "kehys.xtoc = np.array(clustering[str(seedn)]['xtoc'])\n",
    "kehys.weights = np.array([sum(kehys.xtoc == i)\n",
    "                          for i in range(nclust)\n",
    "                          if sum(kehys.xtoc == i) > 0])\n",
    "indices = [min(np.array(range(len(kehys.xtoc)))[kehys.xtoc == i],\n",
    "               key=lambda index: euclidean(kehys.x_norm[index],\n",
    "                                           np.mean(kehys.x_norm[kehys.xtoc == i], axis=0)))\n",
    "           for i in range(nclust) if sum(kehys.xtoc == i) > 0]\n",
    "kehys.centers = kehys.x_norm_stack[indices]\n",
    "kehys.out_centers = kehys.x_stack[indices]\n"
   ]
  },
  {
   "cell_type": "code",
   "execution_count": 27,
   "metadata": {},
   "outputs": [],
   "source": [
    "(kehys.centers == c_close).all(), (kehys.weights/len(kehys.x_norm) == w).all()"
   ]
  },
  {
   "cell_type": "code",
   "execution_count": 28,
   "metadata": {},
   "outputs": [],
   "source": [
    "data = kehys.centers\n",
    "nvar = len(kehys.x_norm)\n",
    "weights = kehys.weights/nvar\n",
    "norm_ideal = kehys.normalize_ref(kehys.ideal)\n",
    "norm_nadir = kehys.normalize_ref(kehys.nadir)\n",
    "\n",
    "solver_name = 'cplex'"
   ]
  },
  {
   "cell_type": "code",
   "execution_count": 29,
   "metadata": {},
   "outputs": [],
   "source": [
    "def scalarizings(init_ref):\n",
    "    ref = kehys.normalize_ref(init_ref)\n",
    "    asf   = ASF(norm_ideal, norm_nadir, ref, data, weights=weights, nvar=nvar, scalarization='asf', sense='maximize')\n",
    "    stom  = ASF(norm_ideal, norm_nadir, ref, data, weights=weights, nvar=nvar, scalarization='stom', sense='maximize')\n",
    "    guess = ASF(norm_ideal, norm_nadir, ref, data, weights=weights, nvar=nvar, scalarization='guess', sense='maximize')\n",
    "    \n",
    "    asf_solver = Solver(asf.model, solver=solver_name)\n",
    "    asf_res = asf_solver.solve()\n",
    "    asf_values = kehys.values(model=asf.model)\n",
    "    \n",
    "    stom_solver = Solver(stom.model, solver=solver_name)\n",
    "    stom_res = stom_solver.solve()\n",
    "    stom_values = kehys.values(model=stom.model)\n",
    "\n",
    "    guess_solver = Solver(guess.model, solver=solver_name)\n",
    "    guess_res = guess_solver.solve()\n",
    "    guess_values = kehys.values(model=guess.model)\n",
    "    #print(str(guess_res['Solver'][0]['Termination condition']))\n",
    "    \n",
    "    return asf_values, stom_values, guess_values"
   ]
  },
  {
   "cell_type": "code",
   "execution_count": 30,
   "metadata": {},
   "outputs": [],
   "source": [
    "init_ref = np.array((kehys.ideal[0], kehys.nadir[1], kehys.nadir[2], kehys.nadir[3]))\n",
    "res1 =  scalarizings(init_ref)"
   ]
  },
  {
   "cell_type": "code",
   "execution_count": 31,
   "metadata": {
    "scrolled": true
   },
   "outputs": [],
   "source": [
    "for f in res1:\n",
    "    print(['{:11.2f}'.format(value) for value in f])"
   ]
  },
  {
   "cell_type": "code",
   "execution_count": 32,
   "metadata": {},
   "outputs": [],
   "source": [
    "print(['{:11.2f}'.format(value) for value in kehys.ideal])"
   ]
  },
  {
   "cell_type": "code",
   "execution_count": 33,
   "metadata": {},
   "outputs": [],
   "source": [
    "init_ref = np.array((kehys.nadir[0], kehys.ideal[1], kehys.nadir[2], kehys.nadir[3]))\n",
    "res2 = scalarizings(init_ref)"
   ]
  },
  {
   "cell_type": "code",
   "execution_count": 34,
   "metadata": {
    "scrolled": true
   },
   "outputs": [],
   "source": [
    "for f in res2:\n",
    "    print(['{:11.2f}'.format(value) for value in f])"
   ]
  },
  {
   "cell_type": "code",
   "execution_count": 35,
   "metadata": {},
   "outputs": [],
   "source": [
    "print(['{:11.2f}'.format(value) for value in kehys.ideal])"
   ]
  },
  {
   "cell_type": "code",
   "execution_count": 36,
   "metadata": {},
   "outputs": [],
   "source": [
    "init_ref = np.array((kehys.nadir[0], kehys.nadir[1], kehys.ideal[2], kehys.nadir[3]))\n",
    "res3 = scalarizings(init_ref)"
   ]
  },
  {
   "cell_type": "code",
   "execution_count": 37,
   "metadata": {
    "scrolled": true
   },
   "outputs": [],
   "source": [
    "for f in res3:\n",
    "    print(['{:11.2f}'.format(value) for value in f])"
   ]
  },
  {
   "cell_type": "code",
   "execution_count": 38,
   "metadata": {},
   "outputs": [],
   "source": [
    "print(['{:11.2f}'.format(value) for value in kehys.ideal])"
   ]
  },
  {
   "cell_type": "code",
   "execution_count": 39,
   "metadata": {},
   "outputs": [],
   "source": [
    "init_ref = np.array((kehys.nadir[0], kehys.nadir[1], kehys.nadir[2], kehys.ideal[3]))\n",
    "res4= scalarizings(init_ref)"
   ]
  },
  {
   "cell_type": "code",
   "execution_count": 40,
   "metadata": {
    "scrolled": true
   },
   "outputs": [],
   "source": [
    "for f in res4:\n",
    "    print(['{:11.2f}'.format(value) for value in f])"
   ]
  },
  {
   "cell_type": "code",
   "execution_count": 41,
   "metadata": {},
   "outputs": [],
   "source": [
    "print(['{:11.2f}'.format(value) for value in kehys.ideal])"
   ]
  }
 ],
 "metadata": {
  "git": {
   "suppress_outputs": true
  },
  "kernelspec": {
   "display_name": "Python 3",
   "language": "python",
   "name": "python3"
  },
  "language_info": {
   "codemirror_mode": {
    "name": "ipython",
    "version": 3
   },
   "file_extension": ".py",
   "mimetype": "text/x-python",
   "name": "python",
   "nbconvert_exporter": "python",
   "pygments_lexer": "ipython3",
   "version": "3.5.2"
  }
 },
 "nbformat": 4,
 "nbformat_minor": 2
}