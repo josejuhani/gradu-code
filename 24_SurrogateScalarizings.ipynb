{
 "cells": [
  {
   "cell_type": "markdown",
   "metadata": {},
   "source": [
    "# Analysing the scalarizings when using the surrogate (600/6)"
   ]
  },
  {
   "cell_type": "code",
   "execution_count": 49,
   "metadata": {},
   "outputs": [],
   "source": [
    "%matplotlib inline\n",
    "%pylab inline \n",
    "import seaborn\n",
    "import pandas as pd\n",
    "import numpy as np\n",
    "import matplotlib.pyplot as plt\n",
    "import json\n",
    "import os\n",
    "from ASF import ASF, NIMBUS\n",
    "from gradutil import *\n",
    "from pyomo.opt import SolverFactory\n",
    "from scipy.spatial.distance import euclidean\n",
    "from interactiveBoreal import ReferenceFrame, Solver"
   ]
  },
  {
   "cell_type": "code",
   "execution_count": 2,
   "metadata": {},
   "outputs": [],
   "source": [
    "nclust = 600\n",
    "seedn = range(2,12)[4] # == 6"
   ]
  },
  {
   "cell_type": "code",
   "execution_count": 3,
   "metadata": {},
   "outputs": [],
   "source": [
    "kehys = ReferenceFrame()\n",
    "#kehys.cluster(nclust=nclust, seedn=seedn)"
   ]
  },
  {
   "cell_type": "code",
   "execution_count": 50,
   "metadata": {},
   "outputs": [],
   "source": [
    "with open('clusterings/new_{}.json'.format(nclust), 'r') as file:\n",
    "    clustering = json.load(file)\n",
    "kehys.xtoc = np.array(clustering[str(seedn)]['xtoc'])\n",
    "kehys.weights = np.array([sum(kehys.xtoc == i)\n",
    "                          for i in range(nclust)\n",
    "                          if sum(kehys.xtoc == i) > 0])\n",
    "indices = [min(np.array(range(len(kehys.xtoc)))[kehys.xtoc == i],\n",
    "               key=lambda index: euclidean(kehys.x_norm[index],\n",
    "                                           np.mean(kehys.x_norm[kehys.xtoc == i], axis=0)))\n",
    "           for i in range(nclust) if sum(kehys.xtoc == i) > 0]\n",
    "kehys.centers = kehys.x_stack[indices]\n",
    "kehys.out_centers = kehys.x_stack[indices]"
   ]
  },
  {
   "cell_type": "code",
   "execution_count": 51,
   "metadata": {},
   "outputs": [],
   "source": [
    "names = np.array(['ASF', 'STOM', 'GUESS', 'NIMBUS'])\n",
    "reg_names = np.array(['BAU','SA', 'EXT10','EXT30','GTR30','NTSR','NTL'])\n",
    "revenue,_,_,_ = init_boreal()\n",
    "data = kehys.centers\n",
    "nobj = np.shape(data)[-1]\n",
    "nvar = len(kehys.x_norm)\n",
    "weights = kehys.weights/nvar\n",
    "norm_ideal = kehys.normalize_ref(kehys.ideal)\n",
    "norm_nadir = kehys.normalize_ref(kehys.nadir)\n",
    "solver_name = 'cplex'"
   ]
  },
  {
   "cell_type": "code",
   "execution_count": 52,
   "metadata": {},
   "outputs": [],
   "source": [
    "solver = SolverFactory('cplex')\n",
    "problems = []\n",
    "ress = []\n",
    "\n",
    "for i in range(nobj):\n",
    "    problems.append(BorealWeightedProblem(data[:, :, i], weights, nvar))\n",
    "    \n",
    "for p in problems:\n",
    "    ress.append(solver.solve(p.model))\n",
    "    \n",
    "payoff = [[cluster_to_value(kehys.out_centers[:,:,i], res_to_list(p.model), kehys.weights) for i in range(nobj)] for p in problems]\n",
    "ide_surr = np.max(payoff, axis=0)\n",
    "nad_surr = np.min(payoff, axis=0)\n",
    "\n",
    "payoff_model = [[model_to_real_values(kehys.x_stack[:, :, i], p.model, kehys.xtoc) for i in range(nobj)] for p in problems]\n",
    "ide_orig = np.max(payoff_model, axis=0)\n",
    "nad_orig = np.min(payoff_model, axis=0)"
   ]
  },
  {
   "cell_type": "code",
   "execution_count": 53,
   "metadata": {},
   "outputs": [],
   "source": [
    "for r in ress:\n",
    "    print(r['Solver'][0]['Termination message'])"
   ]
  },
  {
   "cell_type": "code",
   "execution_count": 54,
   "metadata": {
    "scrolled": true
   },
   "outputs": [],
   "source": [
    "for p in payoff:\n",
    "    for f in p:\n",
    "        print('{:11.1f}'.format(f), end=' ')\n",
    "    print('')"
   ]
  },
  {
   "cell_type": "code",
   "execution_count": 9,
   "metadata": {},
   "outputs": [],
   "source": [
    "ide_surr, ide_orig, kehys.ideal"
   ]
  },
  {
   "cell_type": "code",
   "execution_count": 10,
   "metadata": {},
   "outputs": [],
   "source": [
    "nad_surr, nad_orig, kehys.nadir"
   ]
  },
  {
   "cell_type": "markdown",
   "metadata": {},
   "source": [
    "## Testing scalarizations for surrogate (real ideal and nadir)"
   ]
  },
  {
   "cell_type": "code",
   "execution_count": 40,
   "metadata": {},
   "outputs": [],
   "source": [
    "def scalarizings(init_ref, maxs=[], frees=[], output=False):\n",
    "    ref = init_ref\n",
    "    stay = np.array([], dtype=int)\n",
    "    detoriate = np.array([], dtype=int)\n",
    "    minmax = np.array(maxs, dtype=int)\n",
    "    \n",
    "    asf   = ASF(kehys.ideal, kehys.nadir, ref, data, weights=weights, nvar=nvar, scalarization='asf',   sense='maximize')\n",
    "    stom  = ASF(kehys.ideal, kehys.nadir, ref, data, weights=weights, nvar=nvar, scalarization='stom',  sense='maximize')\n",
    "    guess = ASF(kehys.ideal, kehys.nadir, ref, data, weights=weights, nvar=nvar, scalarization='guess', sense='maximize', frees=frees)\n",
    "    \n",
    "    asf_solver = Solver(asf.model, solver=solver_name)\n",
    "    asf_res = asf_solver.solve()\n",
    "    asf_values = kehys.values(model=asf.model)\n",
    "    \n",
    "    stom_solver = Solver(stom.model, solver=solver_name)\n",
    "    stom_res = stom_solver.solve()\n",
    "    stom_values = kehys.values(model=stom.model)\n",
    "\n",
    "    guess_solver = Solver(guess.model, solver=solver_name)\n",
    "    guess_res = guess_solver.solve()\n",
    "    guess_values = kehys.values(model=guess.model)\n",
    "    \n",
    "    nimbus = NIMBUS(kehys.ideal, kehys.nadir, ref, data, minmax, stay, detoriate, asf_values, weights=weights, nvar=nvar)\n",
    "    nimbus_solver = Solver(nimbus.model, solver=solver_name)\n",
    "    nimbus_res = nimbus_solver.solve()\n",
    "    nimbus_values = kehys.values(model=nimbus.model)\n",
    "    \n",
    "    if output:\n",
    "        problems = [asf, stom, guess, nimbus]\n",
    "        listss = [res_to_list(pro.model) for pro in problems]\n",
    "        orig_stands = revenue.values\n",
    "        all_regs = []\n",
    "        for l in listss:\n",
    "            nos = dict()\n",
    "            for ind,n in enumerate(l):\n",
    "                these_stands_to_bau = orig_stands[kehys.xtoc==ind,int(n)]\n",
    "                to_bau_no = np.sum(np.isnan(these_stands_to_bau))\n",
    "                nos[0] = nos.get(0, 0) + to_bau_no\n",
    "                nos[int(n)] = nos.get(n, 0) + kehys.weights[ind] - to_bau_no\n",
    "            all_regs.append(nos)\n",
    "\n",
    "        for i,di in enumerate(all_regs):\n",
    "            print('\\n{}'.format(names[i]))\n",
    "            summ = 0\n",
    "            for key in di.keys():\n",
    "                summ += di[key]\n",
    "                print('{:5} {:6}'.format(reg_names[key], di[key]))\n",
    "            print('Total: {}'.format(summ))\n",
    "        \n",
    "    return asf_values, stom_values, guess_values, nimbus_values"
   ]
  },
  {
   "cell_type": "code",
   "execution_count": 48,
   "metadata": {},
   "outputs": [],
   "source": [
    "    hectars = 68700\n",
    "    starting_solution = np.array((2860, 56.2, 2.86,  0.26))*hectars\n",
    "    ref = np.array((kehys.nadir[0], 51*hectars, 2*hectars, kehys.ideal[3]))\n",
    "    stay = np.array([], dtype=int)\n",
    "    detoriate = np.array([1,2], dtype=int)\n",
    "    minmax = np.array([3], dtype=int)\n",
    "    nimbus = NIMBUS(kehys.ideal, kehys.nadir, ref, data, minmax, stay, detoriate, starting_solution, weights=weights, nvar=nvar)\n",
    "    nimbus_solver = Solver(nimbus.model, solver=solver_name)\n",
    "    nimbus_res = nimbus_solver.solve()\n",
    "    nimbus_values = kehys.values(model=nimbus.model)\n",
    "    print(['{:11.2f}'.format(value) for value in nimbus_values/hectars])"
   ]
  },
  {
   "cell_type": "markdown",
   "metadata": {},
   "source": [
    "### Revenue to Ideal"
   ]
  },
  {
   "cell_type": "code",
   "execution_count": 41,
   "metadata": {
    "scrolled": true
   },
   "outputs": [],
   "source": [
    "init_ref = np.array((kehys.ideal[0], kehys.nadir[1], kehys.nadir[2], kehys.nadir[3]))\n",
    "res1 =  scalarizings(init_ref, maxs=[0], frees=[1,2,3])"
   ]
  },
  {
   "cell_type": "code",
   "execution_count": 42,
   "metadata": {
    "scrolled": false
   },
   "outputs": [],
   "source": [
    "for f in res1:\n",
    "    print(['{:11.2f}'.format(value) for value in f])"
   ]
  },
  {
   "cell_type": "code",
   "execution_count": 14,
   "metadata": {},
   "outputs": [],
   "source": [
    "print(['{:11.2f}'.format(value) for value in kehys.ideal])"
   ]
  },
  {
   "cell_type": "markdown",
   "metadata": {},
   "source": [
    "### Carbon to Ideal"
   ]
  },
  {
   "cell_type": "code",
   "execution_count": 43,
   "metadata": {
    "scrolled": true
   },
   "outputs": [],
   "source": [
    "init_ref = np.array((kehys.nadir[0], kehys.ideal[1], kehys.nadir[2], kehys.nadir[3]))\n",
    "res2 = scalarizings(init_ref, maxs=[1], frees=[0,2,3])"
   ]
  },
  {
   "cell_type": "code",
   "execution_count": 16,
   "metadata": {
    "scrolled": true
   },
   "outputs": [],
   "source": [
    "for f in res2:\n",
    "    print(['{:12.2f}'.format(value) for value in f])"
   ]
  },
  {
   "cell_type": "code",
   "execution_count": 17,
   "metadata": {
    "scrolled": true
   },
   "outputs": [],
   "source": [
    "print(['{:11.2f}'.format(value) for value in kehys.ideal])"
   ]
  },
  {
   "cell_type": "markdown",
   "metadata": {},
   "source": [
    "### Deadwood to Ideal"
   ]
  },
  {
   "cell_type": "code",
   "execution_count": 18,
   "metadata": {},
   "outputs": [],
   "source": [
    "init_ref = np.array((kehys.nadir[0], kehys.nadir[1], kehys.ideal[2], kehys.nadir[3]))\n",
    "res3 = scalarizings(init_ref, maxs=[2], frees=[0,1,3])"
   ]
  },
  {
   "cell_type": "code",
   "execution_count": 19,
   "metadata": {
    "scrolled": true
   },
   "outputs": [],
   "source": [
    "for f in res3:\n",
    "    print(['{:12.2f}'.format(value) for value in f])"
   ]
  },
  {
   "cell_type": "code",
   "execution_count": 20,
   "metadata": {},
   "outputs": [],
   "source": [
    "print(['{:11.2f}'.format(value) for value in kehys.ideal])"
   ]
  },
  {
   "cell_type": "markdown",
   "metadata": {},
   "source": [
    "### Habitat to Ideal"
   ]
  },
  {
   "cell_type": "code",
   "execution_count": 21,
   "metadata": {},
   "outputs": [],
   "source": [
    "init_ref = np.array((kehys.nadir[0], kehys.nadir[1], kehys.nadir[2], kehys.ideal[3]))\n",
    "res4= scalarizings(init_ref, maxs=[3], frees=[0,1,2])"
   ]
  },
  {
   "cell_type": "code",
   "execution_count": 22,
   "metadata": {
    "scrolled": false
   },
   "outputs": [],
   "source": [
    "for f in res4:\n",
    "    print(['{:12.2f}'.format(value) for value in f])"
   ]
  },
  {
   "cell_type": "code",
   "execution_count": 23,
   "metadata": {
    "scrolled": true
   },
   "outputs": [],
   "source": [
    "print(['{:11.2f}'.format(value) for value in kehys.ideal])"
   ]
  },
  {
   "cell_type": "code",
   "execution_count": 100,
   "metadata": {},
   "outputs": [],
   "source": [
    "print(res4[-1])"
   ]
  },
  {
   "cell_type": "markdown",
   "metadata": {},
   "source": [
    "## Ideal and nadir from scalarizings"
   ]
  },
  {
   "cell_type": "code",
   "execution_count": 24,
   "metadata": {},
   "outputs": [],
   "source": [
    "all_res = np.concatenate((res1, res2, res3, res4))\n",
    "all_arr = np.array((res1, res2, res3, res4))"
   ]
  },
  {
   "cell_type": "code",
   "execution_count": 25,
   "metadata": {},
   "outputs": [],
   "source": [
    "objs_long = np.array(('Timber Revenue','Carbon Storage','Deadwood Volume','Habitat Suitability'))\n",
    "objs = np.array(('Revenue','Carbon','Deadwood','Habitat'))\n",
    "names = np.array(('Achievement Scalarizing Function','Satisficing Trade-Off Method','GUESS-scalarizing','NIMBUS-scalarizing'))\n",
    "for obj,obj_res in zip(objs_long,all_arr):\n",
    "    print(' & \\\\multicolumn{{4}}{{|c|}}{{{}}}\\\\\\\\'.format(obj))\n",
    "    print(' & {} \\\\\\\\'.format(' & '.join(objs)))\n",
    "    for name, scal_res in zip(names,obj_res):\n",
    "        print('{} & {} \\\\\\\\'.format(name, ' & '.join(['{:,.0f}'.format(value).replace(',', ' ') for value in scal_res])))\n",
    "    print('\\hline')"
   ]
  },
  {
   "cell_type": "code",
   "execution_count": 26,
   "metadata": {},
   "outputs": [],
   "source": [
    "scal_ideal = np.max(all_res, axis=0)\n",
    "scal_nadir = np.min(all_res, axis=0)"
   ]
  },
  {
   "cell_type": "code",
   "execution_count": 27,
   "metadata": {
    "scrolled": true
   },
   "outputs": [],
   "source": [
    "print(['{:12.0f}'.format(value) for value in scal_ideal])\n",
    "print(['{:12.0f}'.format(value) for value in scal_nadir])"
   ]
  },
  {
   "cell_type": "code",
   "execution_count": 28,
   "metadata": {},
   "outputs": [],
   "source": [
    "print(['{:12.0f}'.format(value) for value in ide_surr])\n",
    "print(['{:12.0f}'.format(value) for value in nad_surr])"
   ]
  },
  {
   "cell_type": "code",
   "execution_count": 29,
   "metadata": {},
   "outputs": [],
   "source": [
    "print(' & '.join(['{:,.0f}'.format(value).replace(',', ' ') for value in ide_surr]))\n",
    "print(' & '.join(['{:,.0f}'.format(value).replace(',', ' ') for value in nad_surr]))"
   ]
  },
  {
   "cell_type": "code",
   "execution_count": 30,
   "metadata": {},
   "outputs": [],
   "source": [
    "print(' & '.join(['{:,.0f}'.format(value).replace(',', ' ') for value in kehys.ideal]))\n",
    "print(' & '.join(['{:,.0f}'.format(value).replace(',', ' ') for value in kehys.nadir]))"
   ]
  },
  {
   "cell_type": "markdown",
   "metadata": {},
   "source": [
    "## Testing scalarizations for surrogate (ideal and nadir from the surrogate)"
   ]
  },
  {
   "cell_type": "code",
   "execution_count": 78,
   "metadata": {},
   "outputs": [],
   "source": [
    "def scalarizings_surr(init_ref, maxs=[], frees=[]):\n",
    "    stay = np.array([], dtype=int)\n",
    "    detoriate = np.array([], dtype=int)\n",
    "    minmax = np.array(maxs, dtype=int)\n",
    "    \n",
    "    asf   = ASF(ide_surr, nad_surr, ref, data, weights=weights, nvar=nvar, scalarization='asf', sense='maximize')\n",
    "    stom  = ASF(ide_surr, nad_surr, ref, data, weights=weights, nvar=nvar, scalarization='stom', sense='maximize')\n",
    "    guess = ASF(ide_surr, nad_surr, ref, data, weights=weights, nvar=nvar, scalarization='guess', sense='maximize', frees=frees)\n",
    "    \n",
    "    asf_solver = Solver(asf.model, solver=solver_name)\n",
    "    asf_res = asf_solver.solve()\n",
    "    asf_values = kehys.values(model=asf.model)\n",
    "    \n",
    "    stom_solver = Solver(stom.model, solver=solver_name)\n",
    "    stom_res = stom_solver.solve()\n",
    "    stom_values = kehys.values(model=stom.model)\n",
    "\n",
    "    guess_solver = Solver(guess.model, solver=solver_name)\n",
    "    guess_res = guess_solver.solve()\n",
    "    guess_values = kehys.values(model=guess.model)\n",
    "    \n",
    "    #Use tha ASF value as initial value for the NIMBUS. NOTICE THE DIFFERENT WEIGTHS ALSO!\n",
    "    nimbus = NIMBUS(ide_surr, nad_surr, ref, data, minmax, stay, detoriate, asf_values, weights=weights, nvar=nvar)\n",
    "    nimbus_solver = Solver(nimbus.model, solver=solver_name)\n",
    "    nimbus_res = nimbus_solver.solve()\n",
    "    nimbus_values = kehys.values(model=nimbus.model)\n",
    "\n",
    "    return asf_values, stom_values, guess_values, nimbus_values"
   ]
  },
  {
   "cell_type": "markdown",
   "metadata": {},
   "source": [
    "### Revenue to Ideal"
   ]
  },
  {
   "cell_type": "code",
   "execution_count": 79,
   "metadata": {},
   "outputs": [],
   "source": [
    "init_ref = np.array((kehys.ideal[0], kehys.nadir[1], kehys.nadir[2], kehys.nadir[3]))\n",
    "surr_res1 =  scalarizings_surr(init_ref, maxs=[0], frees=[1,2,3])"
   ]
  },
  {
   "cell_type": "code",
   "execution_count": 80,
   "metadata": {
    "scrolled": true
   },
   "outputs": [],
   "source": [
    "for f in surr_res1:\n",
    "    print(['{:11.2f}'.format(value) for value in f])"
   ]
  },
  {
   "cell_type": "code",
   "execution_count": 81,
   "metadata": {},
   "outputs": [],
   "source": [
    "print(['{:11.2f}'.format(value) for value in kehys.ideal])"
   ]
  },
  {
   "cell_type": "markdown",
   "metadata": {},
   "source": [
    "### Carbon to Ideal"
   ]
  },
  {
   "cell_type": "code",
   "execution_count": 82,
   "metadata": {},
   "outputs": [],
   "source": [
    "init_ref = np.array((kehys.nadir[0], kehys.ideal[1], kehys.nadir[2], kehys.nadir[3]))\n",
    "surr_res2 = scalarizings_surr(init_ref, maxs=[1], frees=[0,2,3])"
   ]
  },
  {
   "cell_type": "code",
   "execution_count": 83,
   "metadata": {
    "scrolled": false
   },
   "outputs": [],
   "source": [
    "for f in surr_res2:\n",
    "    print(['{:12.2f}'.format(value) for value in f])"
   ]
  },
  {
   "cell_type": "code",
   "execution_count": 84,
   "metadata": {
    "scrolled": true
   },
   "outputs": [],
   "source": [
    "print(['{:11.2f}'.format(value) for value in kehys.ideal])"
   ]
  },
  {
   "cell_type": "markdown",
   "metadata": {},
   "source": [
    "### Deadwood to Ideal"
   ]
  },
  {
   "cell_type": "code",
   "execution_count": 85,
   "metadata": {},
   "outputs": [],
   "source": [
    "init_ref = np.array((kehys.nadir[0], kehys.nadir[1], kehys.ideal[2], kehys.nadir[3]))\n",
    "surr_res3 = scalarizings_surr(init_ref, maxs=[2], frees=[0,1,3])"
   ]
  },
  {
   "cell_type": "code",
   "execution_count": 86,
   "metadata": {
    "scrolled": true
   },
   "outputs": [],
   "source": [
    "for f in surr_res3:\n",
    "    print(['{:11.2f}'.format(value) for value in f])"
   ]
  },
  {
   "cell_type": "code",
   "execution_count": 87,
   "metadata": {},
   "outputs": [],
   "source": [
    "print(['{:11.2f}'.format(value) for value in kehys.ideal])"
   ]
  },
  {
   "cell_type": "markdown",
   "metadata": {},
   "source": [
    "### Habitat to Ideal"
   ]
  },
  {
   "cell_type": "code",
   "execution_count": 88,
   "metadata": {},
   "outputs": [],
   "source": [
    "init_ref = np.array((kehys.nadir[0], kehys.nadir[1], kehys.nadir[2], kehys.ideal[3]))\n",
    "surr_res4= scalarizings_surr(init_ref, maxs=[3], frees=[0,1,2])"
   ]
  },
  {
   "cell_type": "code",
   "execution_count": 89,
   "metadata": {
    "scrolled": false
   },
   "outputs": [],
   "source": [
    "for f in surr_res4:\n",
    "    print(['{:11.2f}'.format(value) for value in f])"
   ]
  },
  {
   "cell_type": "code",
   "execution_count": 90,
   "metadata": {},
   "outputs": [],
   "source": [
    "print(['{:11.2f}'.format(value) for value in kehys.ideal])"
   ]
  },
  {
   "cell_type": "markdown",
   "metadata": {},
   "source": [
    "## Ideal and nadir from scalarizings"
   ]
  },
  {
   "cell_type": "code",
   "execution_count": 91,
   "metadata": {},
   "outputs": [],
   "source": [
    "surr_all_res = np.concatenate((surr_res1, surr_res2, surr_res3, surr_res4))\n",
    "surr_all_arr = np.array((surr_res1, surr_res2, surr_res3, surr_res4))"
   ]
  },
  {
   "cell_type": "code",
   "execution_count": 92,
   "metadata": {},
   "outputs": [],
   "source": [
    "objs_long = np.array(('Timber Revenue','Carbon Storage','Deadwood Volume','Habitat Suitability'))\n",
    "objs = np.array(('Revenue','Carbon','Deadwood','Habitat'))\n",
    "names = np.array(('Achievement Scalarizing Function','Satisficing Trade-Off Method','GUESS-scalarizing','NIMBUS-scalarizing'))\n",
    "for obj,obj_res in zip(objs_long,surr_all_arr):\n",
    "    print(' & \\\\multicolumn{{4}}{{|c|}}{{{}}}\\\\\\\\'.format(obj))\n",
    "    print(' & {} \\\\\\\\'.format(' & '.join(objs)))\n",
    "    for name, scal_res in zip(names,obj_res):\n",
    "        print('{} & {} \\\\\\\\'.format(name, ' & '.join(['{:,.0f}'.format(value).replace(',', ' ') for value in scal_res])))\n",
    "    print('\\hline')"
   ]
  },
  {
   "cell_type": "code",
   "execution_count": 93,
   "metadata": {},
   "outputs": [],
   "source": [
    "surr_scal_ideal = np.max(surr_all_res, axis=0)\n",
    "surr_scal_nadir = np.min(surr_all_res, axis=0)"
   ]
  },
  {
   "cell_type": "code",
   "execution_count": 94,
   "metadata": {
    "scrolled": true
   },
   "outputs": [],
   "source": [
    "print(['{:12.0f}'.format(value) for value in surr_scal_ideal])\n",
    "print(['{:12.0f}'.format(value) for value in surr_scal_nadir])"
   ]
  },
  {
   "cell_type": "code",
   "execution_count": 95,
   "metadata": {
    "scrolled": true
   },
   "outputs": [],
   "source": [
    "print(['{:12.0f}'.format(value) for value in scal_ideal])\n",
    "print(['{:12.0f}'.format(value) for value in scal_nadir])"
   ]
  },
  {
   "cell_type": "code",
   "execution_count": 96,
   "metadata": {},
   "outputs": [],
   "source": [
    "print(['{:12.0f}'.format(value) for value in ide_surr])\n",
    "print(['{:12.0f}'.format(value) for value in nad_surr])"
   ]
  }
 ],
 "metadata": {
  "git": {
   "suppress_outputs": true
  },
  "kernelspec": {
   "display_name": "Python 3",
   "language": "python",
   "name": "python3"
  },
  "language_info": {
   "codemirror_mode": {
    "name": "ipython",
    "version": 3
   },
   "file_extension": ".py",
   "mimetype": "text/x-python",
   "name": "python",
   "nbconvert_exporter": "python",
   "pygments_lexer": "ipython3",
   "version": "3.5.2"
  }
 },
 "nbformat": 4,
 "nbformat_minor": 2
}