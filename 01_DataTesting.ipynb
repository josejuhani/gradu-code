{
 "cells": [
  {
   "cell_type": "code",
   "execution_count": 2,
   "metadata": {},
   "outputs": [],
   "source": [
    " %matplotlib inline\n",
    "import seaborn\n",
    "import pandas as pd\n",
    "import numpy as np\n",
    "import matplotlib.pyplot as plt\n",
    "import os\n",
    "from gradutil import init_boreal"
   ]
  },
  {
   "cell_type": "markdown",
   "metadata": {},
   "source": [
    "## The Boreal Forest Data"
   ]
  },
  {
   "cell_type": "markdown",
   "metadata": {},
   "source": [
    "TODO: Describe here where the data is from and what does it really mean. Describe the variables and different \"levels\" (BAU, SA etc.)"
   ]
  },
  {
   "cell_type": "code",
   "execution_count": 3,
   "metadata": {},
   "outputs": [],
   "source": [
    "revenue, carbon, deadwood, HA = init_boreal()"
   ]
  },
  {
   "cell_type": "code",
   "execution_count": 5,
   "metadata": {},
   "outputs": [],
   "source": [
    "revenue.describe()"
   ]
  },
  {
   "cell_type": "markdown",
   "metadata": {},
   "source": [
    "## Cleaning the data"
   ]
  },
  {
   "cell_type": "markdown",
   "metadata": {},
   "source": [
    "In the papers related to this data it says that:\n",
    "- GTR30, EXT10 and EXT30 were not allowed for stands that didn't reach maturity\n",
    "- No-thinning (NTLR) not allowed for stands where no-thinning according to the BAU scheme\n",
    "- SA not allowed for stands where no thinning or harvest in BAU either"
   ]
  },
  {
   "cell_type": "markdown",
   "metadata": {},
   "source": [
    "Now it looks like the NaN values are at the same places in all the files. It would be good to examine that more thoroughly:"
   ]
  },
  {
   "cell_type": "code",
   "execution_count": 3,
   "metadata": {},
   "outputs": [],
   "source": [
    "(carbon.isnull()==HA.isnull()).all()"
   ]
  },
  {
   "cell_type": "code",
   "execution_count": 4,
   "metadata": {
    "scrolled": true
   },
   "outputs": [],
   "source": [
    "(HA.isnull()==deadwood.isnull()).all()"
   ]
  },
  {
   "cell_type": "code",
   "execution_count": 5,
   "metadata": {
    "scrolled": true
   },
   "outputs": [],
   "source": [
    "(deadwood.isnull()==revenue.isnull()).all()"
   ]
  },
  {
   "cell_type": "markdown",
   "metadata": {},
   "source": [
    "We would now conclude that it is safe to say all the Nan values are at exactly the same places for all the files. Then we could remova all the rows (forest stands) that have any NaN values, and the id's of rows (stands) will still match."
   ]
  },
  {
   "cell_type": "code",
   "execution_count": 6,
   "metadata": {},
   "outputs": [],
   "source": [
    "carbon_clean = carbon.dropna(axis=0, how='any')\n",
    "HA_clean = HA.dropna(axis=0, how='any')\n",
    "deadwood_clean = deadwood.dropna(axis=0, how='any')\n",
    "revenue_clean = revenue.dropna(axis=0, how='any')"
   ]
  },
  {
   "cell_type": "code",
   "execution_count": 7,
   "metadata": {},
   "outputs": [],
   "source": [
    "print('Size of the original dataset: %r' % len(carbon))\n",
    "carbon.describe()"
   ]
  },
  {
   "cell_type": "code",
   "execution_count": 8,
   "metadata": {
    "scrolled": false
   },
   "outputs": [],
   "source": [
    "print('Size of cleaned dataset: % r' % len(carbon_clean))\n",
    "carbon_clean.describe()"
   ]
  },
  {
   "cell_type": "markdown",
   "metadata": {},
   "source": [
    "## Relationships between Nans"
   ]
  },
  {
   "cell_type": "code",
   "execution_count": 9,
   "metadata": {},
   "outputs": [],
   "source": [
    "carbon[carbon.BAU.isnull()].count()"
   ]
  },
  {
   "cell_type": "code",
   "execution_count": 10,
   "metadata": {},
   "outputs": [],
   "source": [
    "carbon[carbon.SA.isnull()].count()"
   ]
  },
  {
   "cell_type": "code",
   "execution_count": 11,
   "metadata": {},
   "outputs": [],
   "source": [
    "carbon[carbon.EXT10.isnull()].count()"
   ]
  },
  {
   "cell_type": "code",
   "execution_count": 12,
   "metadata": {},
   "outputs": [],
   "source": [
    "carbon[carbon.EXT30.isnull()].count()"
   ]
  },
  {
   "cell_type": "code",
   "execution_count": 13,
   "metadata": {},
   "outputs": [],
   "source": [
    "carbon[carbon.GTR30.isnull()].count()"
   ]
  },
  {
   "cell_type": "code",
   "execution_count": 14,
   "metadata": {},
   "outputs": [],
   "source": [
    "carbon[carbon.NTSR.isnull()].count()"
   ]
  },
  {
   "cell_type": "code",
   "execution_count": 15,
   "metadata": {},
   "outputs": [],
   "source": [
    "carbon[carbon.NTLR.isnull()].count()"
   ]
  },
  {
   "cell_type": "markdown",
   "metadata": {},
   "source": [
    "### Outcomes of comparisons"
   ]
  },
  {
   "cell_type": "markdown",
   "metadata": {},
   "source": [
    "- BAU and SA are never Nan\n",
    "- If EXT10 is NaN\n",
    " - then EXT30 and GTR30 are NaN\n",
    "- If EXT30 is NaN\n",
    " - then EXT10 is NaN\n",
    "- IF GTR30 or NLTR is NaN\n",
    " - doesn't imply anything else\n"
   ]
  },
  {
   "cell_type": "markdown",
   "metadata": {},
   "source": [
    "## Objective values"
   ]
  },
  {
   "cell_type": "markdown",
   "metadata": {},
   "source": [
    "Objective function as described in the paper \"Spatially dynamic forest management to sustain biodiversity and economic returns\". So if the value is Nan, then apply the Business as Usual scheme."
   ]
  },
  {
   "cell_type": "code",
   "execution_count": 16,
   "metadata": {},
   "outputs": [],
   "source": [
    "def objective_value(obj, x):\n",
    "    '''\n",
    "    Sums values of the given column on each row of the\n",
    "    dataframe. If the value on the given column at \n",
    "    some row is Nan, then selects the first value from\n",
    "    that row (according to the original source of the data)\n",
    "    '''\n",
    "    summ = .0\n",
    "    for ind, col in zip(range(len(x)), x):\n",
    "        if not np.isnan(obj.iat[ind,col]):\n",
    "            summ += obj.iat[ind,col]\n",
    "        else:\n",
    "            summ += obj.iat[ind,0]\n",
    "    return summ"
   ]
  },
  {
   "cell_type": "code",
   "execution_count": 17,
   "metadata": {},
   "outputs": [],
   "source": [
    "carbon_values = pd.DataFrame({'BAU': objective_value(carbon, np.zeros(len(carbon), dtype=int)),\n",
    "'SA': objective_value(carbon, np.ones(len(carbon), dtype=int)),\n",
    "'EXT10': objective_value(carbon, np.ones(len(carbon), dtype=int)*2),\n",
    "'EXT30': objective_value(carbon, np.ones(len(carbon), dtype=int)*3),\n",
    "'GTR30': objective_value(carbon, np.ones(len(carbon), dtype=int)*4),\n",
    "'NTSR': objective_value(carbon, np.ones(len(carbon), dtype=int)*5),\n",
    "'NTLR': objective_value(carbon, np.ones(len(carbon), dtype=int)*6)}, index=pd.Series([1]))"
   ]
  },
  {
   "cell_type": "code",
   "execution_count": 18,
   "metadata": {},
   "outputs": [],
   "source": [
    "print('Maximum values for all the harvesting schemes using original data:')\n",
    "carbon_values"
   ]
  },
  {
   "cell_type": "code",
   "execution_count": 19,
   "metadata": {},
   "outputs": [],
   "source": [
    "clean_carbon_values = pd.DataFrame({'BAU': objective_value(carbon_clean, np.zeros(len(carbon_clean), dtype=int)),\n",
    "'SA': objective_value(carbon_clean, np.ones(len(carbon_clean), dtype=int)),\n",
    "'EXT10': objective_value(carbon_clean, np.ones(len(carbon_clean), dtype=int)*2),\n",
    "'EXT30': objective_value(carbon_clean, np.ones(len(carbon_clean), dtype=int)*3),\n",
    "'GTR30': objective_value(carbon_clean, np.ones(len(carbon_clean), dtype=int)*4),\n",
    "'NTSR': objective_value(carbon_clean, np.ones(len(carbon_clean), dtype=int)*5),\n",
    "'NTLR': objective_value(carbon_clean, np.ones(len(carbon_clean), dtype=int)*6)}, index=pd.Series([1]))"
   ]
  },
  {
   "cell_type": "code",
   "execution_count": 20,
   "metadata": {},
   "outputs": [],
   "source": [
    "print('Maximum values for all the harvesting schemes using original data:')\n",
    "clean_carbon_values"
   ]
  },
  {
   "cell_type": "code",
   "execution_count": 21,
   "metadata": {},
   "outputs": [],
   "source": [
    "carbon_pic = carbon_values.plot(kind='bar')"
   ]
  },
  {
   "cell_type": "markdown",
   "metadata": {},
   "source": [
    "Resulting bar-graph looks the same than in the paper.."
   ]
  },
  {
   "cell_type": "code",
   "execution_count": 22,
   "metadata": {
    "scrolled": true
   },
   "outputs": [],
   "source": [
    "clean_carbon_values.plot(kind='bar')"
   ]
  },
  {
   "cell_type": "markdown",
   "metadata": {},
   "source": [
    "## Different way to evaluate data with Nan-values"
   ]
  },
  {
   "cell_type": "code",
   "execution_count": 23,
   "metadata": {},
   "outputs": [],
   "source": [
    "#x = np.array(['NTLR']).repeat(len(carbon))\n",
    "x = np.ones(len(carbon), dtype=int)*6"
   ]
  },
  {
   "cell_type": "code",
   "execution_count": 24,
   "metadata": {},
   "outputs": [],
   "source": [
    "%%time \n",
    "print(sum([carbon.iat[ind, col] if not np.isnan(carbon.iat[ind, col]) else carbon.iat[ind, 0] for ind,col in zip(range(len(x)), x)]))"
   ]
  },
  {
   "cell_type": "markdown",
   "metadata": {},
   "source": [
    "## Print statistics about different objectives"
   ]
  },
  {
   "cell_type": "markdown",
   "metadata": {},
   "source": [
    "Calculate ratio of lines containing Nans"
   ]
  },
  {
   "cell_type": "code",
   "execution_count": 25,
   "metadata": {},
   "outputs": [],
   "source": [
    "len(carbon_clean)/len(carbon), len(revenue_clean)/len(revenue)"
   ]
  },
  {
   "cell_type": "markdown",
   "metadata": {},
   "source": [
    "Calculate the total ratio of Nan"
   ]
  },
  {
   "cell_type": "code",
   "execution_count": 26,
   "metadata": {},
   "outputs": [],
   "source": [
    "carbon.isnull().sum().sum()/np.product(np.shape(carbon))"
   ]
  },
  {
   "cell_type": "code",
   "execution_count": 27,
   "metadata": {},
   "outputs": [],
   "source": [
    "carbon.describe()"
   ]
  },
  {
   "cell_type": "code",
   "execution_count": 28,
   "metadata": {},
   "outputs": [],
   "source": [
    "revenue.describe()"
   ]
  },
  {
   "cell_type": "code",
   "execution_count": 29,
   "metadata": {},
   "outputs": [],
   "source": [
    "obs = [revenue, carbon, deadwood, HA]\n",
    "for o in obs:\n",
    "    print(o.min().min(), o.max().max())"
   ]
  },
  {
   "cell_type": "markdown",
   "metadata": {},
   "source": [
    "The following actually computes the single objective optimums:"
   ]
  },
  {
   "cell_type": "code",
   "execution_count": 30,
   "metadata": {},
   "outputs": [],
   "source": [
    "for o in obs:\n",
    "    print(np.nanmax(o.values, axis=1).sum())"
   ]
  },
  {
   "cell_type": "markdown",
   "metadata": {},
   "source": [
    "And as it is supposed, the values are exactly the same than if calculated using \"real\" optimization procedure."
   ]
  }
 ],
 "metadata": {
  "git": {
   "suppress_outputs": true
  },
  "kernelspec": {
   "display_name": "Python 3",
   "language": "python",
   "name": "python3"
  },
  "language_info": {
   "codemirror_mode": {
    "name": "ipython",
    "version": 3
   },
   "file_extension": ".py",
   "mimetype": "text/x-python",
   "name": "python",
   "nbconvert_exporter": "python",
   "pygments_lexer": "ipython3",
   "version": "3.5.2"
  }
 },
 "nbformat": 4,
 "nbformat_minor": 1
}